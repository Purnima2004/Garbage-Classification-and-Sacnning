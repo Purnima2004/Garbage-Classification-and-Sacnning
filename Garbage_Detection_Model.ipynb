{
 "cells": [
  {
   "cell_type": "code",
   "execution_count": null,
   "metadata": {},
   "outputs": [
    {
     "ename": "",
     "evalue": "",
     "output_type": "error",
     "traceback": [
      "\u001b[1;31mRunning cells with '/usr/bin/python3' requires the ipykernel package.\n",
      "\u001b[1;31mRun the following command to install 'ipykernel' into the Python environment. \n",
      "\u001b[1;31mCommand: '/usr/bin/python3 -m pip install ipykernel -U --user --force-reinstall'"
     ]
    }
   ],
   "source": [
    "import numpy as np\n",
    "import cv2\n",
    "import matplotlib.pyplot as plt\n",
    "from sklearn.model_selection import train_test_split\n",
    "import os\n",
    "\n",
    "def has_gaussian_noise(image, threshold=2):\n",
    "    \n",
    "    # Convert the image to grayscale if it's not already in grayscale\n",
    "    if len(image.shape) == 3:\n",
    "        gray_image = cv2.cvtColor(image, cv2.COLOR_BGR2GRAY)\n",
    "    else:\n",
    "        gray_image = image\n",
    "\n",
    "    # Calculate the standard deviation of pixel values\n",
    "    std_deviation = np.std(gray_image)\n",
    "\n",
    "    # Check if the standard deviation is above the threshold\n",
    "    if std_deviation > threshold:\n",
    "        return True\n",
    "    else:\n",
    "        return False\n",
    "\n",
    "def has_salt_and_pepper_noise(image, threshold=0.4):\n",
    "    \n",
    "    # Convert the image to grayscale if it's not already in grayscale\n",
    "    if len(image.shape) == 3:\n",
    "        gray_image = cv2.cvtColor(image, cv2.COLOR_BGR2GRAY)\n",
    "    else:\n",
    "        gray_image = image\n",
    "\n",
    "    # Calculate the percentage of pixels with extreme values\n",
    "    num_pixels = gray_image.size\n",
    "    num_extreme_pixels = np.sum((gray_image == 0) | (gray_image == 255))\n",
    "    percentage_extreme_pixels = num_extreme_pixels / num_pixels\n",
    "\n",
    "    # Check if the percentage of extreme pixels is above the threshold\n",
    "    if percentage_extreme_pixels > threshold:\n",
    "        return True\n",
    "    else:\n",
    "        return False\n",
    "\n",
    "def get_image_paths_and_labels(folder_path):\n",
    "    image_paths = []\n",
    "    labels = []\n",
    "\n",
    "    # Check if the folder exists\n",
    "    if not os.path.exists(folder_path):\n",
    "        print(f\"The folder '{folder_path}' does not exist.\")\n",
    "        return image_paths, labels\n",
    "\n",
    "    # Iterate through the files in the folder\n",
    "    for filename in os.listdir(folder_path):\n",
    "        file_path = os.path.join(folder_path, filename)\n",
    "\n",
    "        # Check if the file is a valid image\n",
    "        if os.path.isfile(file_path) and filename.lower().endswith(('.jpg', '.jpeg')):\n",
    "            image_paths.append(file_path)\n",
    "            labels.append(filename)  # Use the filename as the label\n",
    "            \n",
    "    return image_paths, labels\n",
    "\n",
    "# Example functions for data preprocessing\n",
    "def load_and_preprocess_data(image_paths, labels, target_size=(256, 256)):\n",
    "    # Load and preprocess MRI images\n",
    "    images = []\n",
    "    for path in image_paths:\n",
    "        try:\n",
    "            image = cv2.imread(path, cv2.IMREAD_GRAYSCALE)  # Read as grayscale\n",
    "\n",
    "            # Ensure the image has a valid size and aspect ratio\n",
    "            if image is not None and image.shape[0] > 0 and image.shape[1] > 0:\n",
    "                image = cv2.resize(image, target_size)  # Resize to a common size\n",
    "                image = image / 255.0  # Normalize pixel values to [0, 1]\n",
    "                images.append(image)\n",
    "                \n",
    "        except Exception as e:\n",
    "            print(f\"Error processing image at path {path}: {str(e)}\")\n",
    "\n",
    "    # Convert images and labels to NumPy arrays\n",
    "    images = np.array(images)\n",
    "    labels = np.array(labels)\n",
    "\n",
    "    return images, labels\n",
    "\n",
    "def data_augmentation(images):\n",
    "    # Example data augmentation (rotate, flip, and add noise)\n",
    "    augmented_images = []\n",
    "    for image in images:\n",
    "        augmented_image = image.copy()  # Create a copy of the original image\n",
    "\n",
    "        if has_gaussian_noise(augmented_image) == True:\n",
    "            augmented_image = cv2.GaussianBlur(augmented_image, (5, 5), 0)\n",
    "\n",
    "        if has_salt_and_pepper_noise(augmented_image) == True:\n",
    "            augmented_image = cv2.medianBlur(np.float32(augmented_image), 5)\n",
    "\n",
    "        augmented_images.append(augmented_image)\n",
    "\n",
    "    return np.array(augmented_images)\n",
    "\n",
    "def is_corrupt_image(image_path):\n",
    "    try:\n",
    "        image = cv2.imread(image_path, cv2.IMREAD_GRAYSCALE)\n",
    "        if image is not None and image.shape[0] > 0 and image.shape[1] > 0:\n",
    "            return False  # Image is not corrupt\n",
    "        else:\n",
    "            return True  # Image is corrupt\n",
    "    except Exception as e:\n",
    "        return True  # An error occurred when trying to open the image\n",
    "\n",
    "def remove_corrupt_images(image_paths, labels):\n",
    "    valid_image_paths = []\n",
    "    valid_labels = []\n",
    "\n",
    "    for i, path in enumerate(image_paths):\n",
    "        if not is_corrupt_image(path):\n",
    "            valid_image_paths.append(path)\n",
    "            valid_labels.append(labels[i])\n",
    "\n",
    "    return valid_image_paths, valid_labels\n",
    "\n",
    "\n",
    "\n",
    "           \n",
    "def split_data(images, labels):\n",
    "    try:\n",
    "        # Split data into training, validation, and test sets\n",
    "        # Split data into training, validation, and test sets\n",
    "        X_train, X_temp, y_train, y_temp = train_test_split(images, labels, test_size=0.3)\n",
    "        X_val, X_test, y_val, y_test = train_test_split(X_temp, y_temp, test_size=0.5)\n",
    "\n",
    "\n",
    "        return X_train, y_train, X_val, y_val, X_test, y_test\n",
    "    except ValueError as e:\n",
    "        print(f\"ValueError occurred during data splitting: {str(e)}\")\n",
    "        return None, None, None, None, None, None\n",
    "\n",
    "folder_path_garbage = \"./GarbageData/Garbage\"\n",
    "image_paths_garbage, labels_garbage = get_image_paths_and_labels(folder_path_garbage)\n",
    "\n",
    "folder_path_non_garbage = \"./GarbageData/NonGarbage\"\n",
    "image_paths_non_garbage, labels_non_garbage = get_image_paths_and_labels(folder_path_non_garbage)\n",
    "\n",
    "image_paths = image_paths_garbage + image_paths_non_garbage\n",
    "labels = labels_garbage + labels_non_garbage\n",
    "\n",
    "\n",
    "for i in range(len(labels)):\n",
    "    if \"garbage\" in labels[i]:\n",
    "        labels[i] = 1\n",
    "    else:\n",
    "        labels[i] = 0\n",
    "\n",
    "image_paths, labels = remove_corrupt_images(image_paths, labels)\n",
    "images, labels = load_and_preprocess_data(image_paths, labels)\n",
    "# Data augmentation\n",
    "augmented_images = data_augmentation(images)\n",
    "\n",
    "print(\"Number of images:\", len(images))\n",
    "print(\"Shape of images:\", images.shape)\n",
    "print(\"Number of labels:\", len(labels))\n",
    "\n",
    "# Check for missing labels\n",
    "unique_labels = [0, 1]  # Unique labels expected in your dataset\n",
    "\n",
    "for label in labels:\n",
    "    if label not in unique_labels:\n",
    "        print(f\"Missing label: {label}\")\n",
    "\n",
    "# Check for duplicate labels\n",
    "duplicate_labels = []\n",
    "label_set = set()\n",
    "\n",
    "for label in labels:\n",
    "    if label in label_set:\n",
    "        duplicate_labels.append(label)\n",
    "    else:\n",
    "        label_set.add(label)\n",
    "\n",
    "if duplicate_labels:\n",
    "    print(\"Duplicate labels found:\", duplicate_labels)\n",
    "else:\n",
    "    print(\"No duplicate labels found\")\n",
    "\n",
    "# Split data (you had an issue here, so I fixed it)\n",
    "X_train, y_train, X_val, y_val, X_test, y_test = split_data(augmented_images, labels)\n",
    "\n",
    "# Check for errors and handle accordingly\n",
    "if X_train is None:\n",
    "    # Handle the error gracefully, e.g., print an error message or log it\n",
    "    print(\"Error occurred during data splitting.\")\n",
    "else:\n",
    "    # Continue with model training or further processing\n",
    "    print(\"Data preprocessing completed successfully.\")"
   ]
  },
  {
   "cell_type": "code",
   "execution_count": 16,
   "metadata": {},
   "outputs": [
    {
     "data": {
      "text/plain": [
       "3851"
      ]
     },
     "execution_count": 16,
     "metadata": {},
     "output_type": "execute_result"
    }
   ],
   "source": [
    "len(labels)"
   ]
  },
  {
   "cell_type": "code",
   "execution_count": 17,
   "metadata": {},
   "outputs": [],
   "source": [
    "from keras import Sequential\n",
    "from keras.layers import InputLayer, Conv2D, MaxPool2D, Flatten, Dense, BatchNormalization, Dropout, PReLU, ELU\n",
    "from keras.callbacks import EarlyStopping , ReduceLROnPlateau, ModelCheckpoint, LearningRateScheduler\n",
    "\n",
    "reduce_lr = ReduceLROnPlateau(\n",
    "    monitor='val_loss',\n",
    "    factor=0.5,\n",
    "    patience=2,\n",
    "    min_lr=1e-5\n",
    ")\n",
    "\n",
    "def custom_lr_schedule(epoch, current_lr):\n",
    "    if epoch < 6:\n",
    "        return 0.1  # Higher learning rate\n",
    "    elif epoch < 15:\n",
    "        return 0.01  # Medium learning rate\n",
    "    else:\n",
    "        return 0.001  # Slower learning rate\n",
    "\n",
    "lr_scheduler = LearningRateScheduler(custom_lr_schedule)\n",
    "    \n",
    "model = Sequential()\n",
    "model.add(InputLayer(input_shape=(256,256,1)))\n",
    "model.add(Conv2D(filters=32, kernel_size=3, activation='relu', padding=\"same\"))\n",
    "model.add(MaxPool2D())\n",
    "model.add(Conv2D(filters=64, kernel_size=3, activation='relu', padding=\"same\"))\n",
    "model.add(MaxPool2D())\n",
    "model.add(Conv2D(filters=128, kernel_size=3, activation=PReLU(), padding=\"same\"))\n",
    "model.add(MaxPool2D())\n",
    "model.add(Conv2D(filters=256, kernel_size=3, activation=PReLU(), padding=\"same\"))\n",
    "model.add(MaxPool2D())\n",
    "model.add(Conv2D(filters=512, kernel_size=3, activation=PReLU(), padding=\"same\"))\n",
    "model.add(MaxPool2D())\n",
    "model.add(Flatten())\n",
    "model.add(Dense(256, activation=ELU()))\n",
    "model.add(BatchNormalization())\n",
    "model.add(Dense(128, activation=ELU()))\n",
    "model.add(BatchNormalization())\n",
    "model.add(Dense(64, activation=ELU()))\n",
    "model.add(BatchNormalization())\n",
    "model.add(Dense(32, activation='relu'))\n",
    "model.add(BatchNormalization())\n",
    "model.add(Dropout(rate=0.5))\n",
    "model.add(Dense(1, activation='sigmoid'))\n",
    "\n",
    "early_stopping = EarlyStopping(monitor='val_loss', patience=5, restore_best_weights=True)\n",
    "reduce_lr = ReduceLROnPlateau(monitor='val_loss', factor=0.5, patience=2, min_lr=1e-5)\n",
    "model_checkpoint = ModelCheckpoint('current_progress.h5', save_best_only=True)\n",
    "\n",
    "model.compile(optimizer='nadam', loss='binary_crossentropy', metrics=['accuracy'])"
   ]
  },
  {
   "cell_type": "code",
   "execution_count": 18,
   "metadata": {},
   "outputs": [
    {
     "name": "stdout",
     "output_type": "stream",
     "text": [
      "Model: \"sequential_1\"\n",
      "_________________________________________________________________\n",
      " Layer (type)                Output Shape              Param #   \n",
      "=================================================================\n",
      " conv2d_5 (Conv2D)           (None, 256, 256, 32)      320       \n",
      "                                                                 \n",
      " max_pooling2d_5 (MaxPoolin  (None, 128, 128, 32)      0         \n",
      " g2D)                                                            \n",
      "                                                                 \n",
      " conv2d_6 (Conv2D)           (None, 128, 128, 64)      18496     \n",
      "                                                                 \n",
      " max_pooling2d_6 (MaxPoolin  (None, 64, 64, 64)        0         \n",
      " g2D)                                                            \n",
      "                                                                 \n",
      " conv2d_7 (Conv2D)           (None, 64, 64, 128)       598144    \n",
      "                                                                 \n",
      " max_pooling2d_7 (MaxPoolin  (None, 32, 32, 128)       0         \n",
      " g2D)                                                            \n",
      "                                                                 \n",
      " conv2d_8 (Conv2D)           (None, 32, 32, 256)       557312    \n",
      "                                                                 \n",
      " max_pooling2d_8 (MaxPoolin  (None, 16, 16, 256)       0         \n",
      " g2D)                                                            \n",
      "                                                                 \n",
      " conv2d_9 (Conv2D)           (None, 16, 16, 512)       1311232   \n",
      "                                                                 \n",
      " max_pooling2d_9 (MaxPoolin  (None, 8, 8, 512)         0         \n",
      " g2D)                                                            \n",
      "                                                                 \n",
      " flatten_1 (Flatten)         (None, 32768)             0         \n",
      "                                                                 \n",
      " dense_5 (Dense)             (None, 256)               8388864   \n",
      "                                                                 \n",
      " batch_normalization_4 (Bat  (None, 256)               1024      \n",
      " chNormalization)                                                \n",
      "                                                                 \n",
      " dense_6 (Dense)             (None, 128)               32896     \n",
      "                                                                 \n",
      " batch_normalization_5 (Bat  (None, 128)               512       \n",
      " chNormalization)                                                \n",
      "                                                                 \n",
      " dense_7 (Dense)             (None, 64)                8256      \n",
      "                                                                 \n",
      " batch_normalization_6 (Bat  (None, 64)                256       \n",
      " chNormalization)                                                \n",
      "                                                                 \n",
      " dense_8 (Dense)             (None, 32)                2080      \n",
      "                                                                 \n",
      " batch_normalization_7 (Bat  (None, 32)                128       \n",
      " chNormalization)                                                \n",
      "                                                                 \n",
      " dropout_1 (Dropout)         (None, 32)                0         \n",
      "                                                                 \n",
      " dense_9 (Dense)             (None, 1)                 33        \n",
      "                                                                 \n",
      "=================================================================\n",
      "Total params: 10919553 (41.65 MB)\n",
      "Trainable params: 10918593 (41.65 MB)\n",
      "Non-trainable params: 960 (3.75 KB)\n",
      "_________________________________________________________________\n"
     ]
    }
   ],
   "source": [
    "model.summary()"
   ]
  },
  {
   "cell_type": "code",
   "execution_count": 19,
   "metadata": {},
   "outputs": [
    {
     "name": "stdout",
     "output_type": "stream",
     "text": [
      "Epoch 1/30\n",
      "85/85 [==============================] - 85s 980ms/step - loss: 0.7184 - accuracy: 0.5573 - val_loss: 53029.6055 - val_accuracy: 0.5657 - lr: 0.1000\n",
      "Epoch 2/30\n",
      "85/85 [==============================] - 85s 993ms/step - loss: 0.6713 - accuracy: 0.6119 - val_loss: 57538.3008 - val_accuracy: 0.5104 - lr: 0.1000\n",
      "Epoch 3/30\n",
      "85/85 [==============================] - 85s 996ms/step - loss: 0.6539 - accuracy: 0.6430 - val_loss: 0.6924 - val_accuracy: 0.6903 - lr: 0.1000\n",
      "Epoch 4/30\n",
      "85/85 [==============================] - 81s 953ms/step - loss: 0.5967 - accuracy: 0.6939 - val_loss: 1.1665 - val_accuracy: 0.6834 - lr: 0.1000\n",
      "Epoch 5/30\n",
      "85/85 [==============================] - 80s 943ms/step - loss: 0.5713 - accuracy: 0.7169 - val_loss: 0.6158 - val_accuracy: 0.7128 - lr: 0.1000\n",
      "Epoch 6/30\n",
      "85/85 [==============================] - 80s 944ms/step - loss: 0.5462 - accuracy: 0.7347 - val_loss: 54863.1719 - val_accuracy: 0.6990 - lr: 0.1000\n",
      "Epoch 7/30\n",
      "85/85 [==============================] - 80s 945ms/step - loss: 0.4884 - accuracy: 0.7796 - val_loss: 0.6299 - val_accuracy: 0.7284 - lr: 0.0100\n",
      "Epoch 8/30\n",
      "85/85 [==============================] - 80s 940ms/step - loss: 0.4468 - accuracy: 0.7926 - val_loss: 0.5852 - val_accuracy: 0.7318 - lr: 0.0100\n",
      "Epoch 9/30\n",
      "85/85 [==============================] - 80s 939ms/step - loss: 0.4246 - accuracy: 0.8085 - val_loss: 0.5801 - val_accuracy: 0.7353 - lr: 0.0100\n",
      "Epoch 10/30\n",
      "85/85 [==============================] - 80s 945ms/step - loss: 0.4066 - accuracy: 0.8319 - val_loss: 0.6238 - val_accuracy: 0.6869 - lr: 0.0100\n",
      "Epoch 11/30\n",
      "85/85 [==============================] - 81s 950ms/step - loss: 0.3679 - accuracy: 0.8534 - val_loss: 56058.3398 - val_accuracy: 0.7093 - lr: 0.0100\n",
      "Epoch 12/30\n",
      "85/85 [==============================] - 82s 961ms/step - loss: 0.3363 - accuracy: 0.8712 - val_loss: 0.6498 - val_accuracy: 0.7128 - lr: 0.0100\n",
      "Epoch 13/30\n",
      "85/85 [==============================] - 81s 957ms/step - loss: 0.3170 - accuracy: 0.8813 - val_loss: 0.8737 - val_accuracy: 0.6678 - lr: 0.0100\n",
      "Epoch 14/30\n",
      "85/85 [==============================] - 80s 941ms/step - loss: 0.2829 - accuracy: 0.8961 - val_loss: 323151.1250 - val_accuracy: 0.7318 - lr: 0.0100\n"
     ]
    }
   ],
   "source": [
    "history = model.fit(X_train,y_train,batch_size=32,epochs=30,verbose=1,validation_data=(X_val,y_val),callbacks=[lr_scheduler,early_stopping, reduce_lr, model_checkpoint])"
   ]
  },
  {
   "cell_type": "code",
   "execution_count": 20,
   "metadata": {},
   "outputs": [
    {
     "data": {
      "image/png": "[encoded data removed]",
      "text/plain": [
       "<Figure size 1200x600 with 1 Axes>"
      ]
     },
     "metadata": {},
     "output_type": "display_data"
    }
   ],
   "source": [
    "plt.figure(figsize=(12, 6))\n",
    "plt.plot(history.history['loss'], label='Training Loss')\n",
    "plt.plot(history.history['val_loss'], label='Validation Loss')\n",
    "plt.xlabel('Epochs')\n",
    "plt.ylabel('Loss')\n",
    "plt.legend()\n",
    "plt.show()"
   ]
  },
  {
   "cell_type": "code",
   "execution_count": 21,
   "metadata": {},
   "outputs": [
    {
     "name": "stdout",
     "output_type": "stream",
     "text": [
      "19/19 [==============================] - 5s 246ms/step\n"
     ]
    }
   ],
   "source": [
    "y_pred = model.predict(X_test)\n",
    "y_pred_binary = (y_pred > 0.5).astype(int)"
   ]
  },
  {
   "cell_type": "code",
   "execution_count": 22,
   "metadata": {},
   "outputs": [
    {
     "data": {
      "text/plain": [
       "array([[245,  84],\n",
       "       [ 64, 185]])"
      ]
     },
     "execution_count": 22,
     "metadata": {},
     "output_type": "execute_result"
    }
   ],
   "source": [
    "from sklearn.metrics import confusion_matrix\n",
    "confusion_matrix(y_pred_binary,y_test)"
   ]
  },
  {
   "cell_type": "code",
   "execution_count": 23,
   "metadata": {},
   "outputs": [
    {
     "data": {
      "text/plain": [
       "0.7439446366782007"
      ]
     },
     "execution_count": 23,
     "metadata": {},
     "output_type": "execute_result"
    }
   ],
   "source": [
    "from sklearn.metrics import accuracy_score\n",
    "\n",
    "accuracy_score(y_test,y_pred_binary)"
   ]
  },
  {
   "cell_type": "code",
   "execution_count": 24,
   "metadata": {},
   "outputs": [
    {
     "data": {
      "text/plain": [
       "0.7142857142857143"
      ]
     },
     "execution_count": 24,
     "metadata": {},
     "output_type": "execute_result"
    }
   ],
   "source": [
    "from sklearn.metrics import f1_score\n",
    "\n",
    "f1_score(y_test,y_pred_binary)"
   ]
  },
  {
   "cell_type": "code",
   "execution_count": 1,
   "metadata": {},
   "outputs": [
    {
     "name": "stdout",
     "output_type": "stream",
     "text": [
      "Error processing image: name 'cv2' is not defined\n"
     ]
    }
   ],
   "source": [
    "def preprocess_and_augment_image(image_path, target_size=(256, 256)):\n",
    "    try:\n",
    "        # Load the image\n",
    "        image = cv2.imread(image_path, cv2.IMREAD_GRAYSCALE)  # Read as grayscale\n",
    "\n",
    "        # Ensure the image has a valid size and aspect ratio\n",
    "        if image is not None and image.shape[0] > 0 and image.shape[1] > 0:\n",
    "            # Resize the image to the specified target size\n",
    "            image = cv2.resize(image, target_size)\n",
    "            # Normalize pixel values to [0, 1]\n",
    "            image = image / 255.0\n",
    "\n",
    "            # Check for noise and apply noise reduction if necessary\n",
    "            if has_gaussian_noise(image):\n",
    "                image = cv2.GaussianBlur(image, (5, 5), 0)\n",
    "            if has_salt_and_pepper_noise(image):\n",
    "                image = cv2.medianBlur(np.float32(image), 5)\n",
    "            return image\n",
    "        else:\n",
    "            print(\"Invalid image dimensions or loading error.\")\n",
    "            return None\n",
    "    except Exception as e:\n",
    "        print(f\"Error processing image: {str(e)}\")\n",
    "        return None\n",
    "\n",
    "# Example usage:\n",
    "image_path = \"test1.jpeg\"  \n",
    "# image_path = \"test2.jpg\" \n",
    "# image_path = \"test3.jpg\" \n",
    "# image_path = \"test4.jpg\" \n",
    "# image_path = \"test5.jpeg\" \n",
    "# image_path = \"test6.jpeg\" \n",
    "\n",
    "# image_path = \"nontest1.jpg\" \n",
    "# image_path = \"nontest2.jpg\" \n",
    "# image_path = \"nontest3.jpg\" \n",
    "# image_path = \"nontest4.jpg\" \n",
    "\n",
    "\n",
    "\n",
    "preprocessed_image = preprocess_and_augment_image(image_path)\n",
    "\n",
    "if preprocessed_image is not None:\n",
    "    prediction = model.predict(np.expand_dims(preprocessed_image, axis=0))\n",
    "    if ((prediction > 0.5).astype(int))==0:\n",
    "        detect = \"No Garbage\"\n",
    "    else :\n",
    "        detect = \"Garbage\"\n",
    "    print(\"Predicted class: \",detect)\n"
   ]
  },
  {
   "cell_type": "code",
   "execution_count": 28,
   "metadata": {},
   "outputs": [],
   "source": [
    "model.save('MyGarbageDetectionModelFinal2.h5')"
   ]
  },
  {
   "cell_type": "code",
   "execution_count": 29,
   "metadata": {},
   "outputs": [
    {
     "name": "stdout",
     "output_type": "stream",
     "text": [
      "Accuracy: 0.7439446366782007\n",
      "Precision: 0.7429718875502008\n",
      "Recall: 0.6877323420074349\n",
      "F1 Score: 0.7142857142857143\n",
      "Confusion Matrix:\n",
      " [[245  64]\n",
      " [ 84 185]]\n",
      "AUC: 0.7403063004535556\n"
     ]
    }
   ],
   "source": [
    "import numpy as np\n",
    "from sklearn.metrics import accuracy_score, precision_score, recall_score, f1_score, confusion_matrix, roc_curve, roc_auc_score, mean_squared_error\n",
    "\n",
    "# Accuracy\n",
    "accuracy = accuracy_score(y_test,y_pred_binary)\n",
    "print(\"Accuracy:\", accuracy)\n",
    "\n",
    "# Precision\n",
    "precision = precision_score(y_test,y_pred_binary)\n",
    "print(\"Precision:\", precision)\n",
    "\n",
    "# Recall\n",
    "recall = recall_score(y_test,y_pred_binary)\n",
    "print(\"Recall:\", recall)\n",
    "\n",
    "# F1 Score\n",
    "f1 = f1_score(y_test,y_pred_binary)\n",
    "print(\"F1 Score:\", f1)\n",
    "\n",
    "# Confusion Matrix\n",
    "conf_matrix = confusion_matrix(y_test,y_pred_binary)\n",
    "print(\"Confusion Matrix:\\n\", conf_matrix)\n",
    "\n",
    "# ROC Curve and AUC\n",
    "fpr, tpr, thresholds = roc_curve(y_test,y_pred_binary)\n",
    "auc = roc_auc_score(y_test,y_pred_binary)\n",
    "print(\"AUC:\", auc)"
   ]
  },
  {
   "cell_type": "code",
   "execution_count": null,
   "metadata": {},
   "outputs": [],
   "source": []
  },
  {
   "cell_type": "markdown",
   "metadata": {},
   "source": []
  }
 ],
 "metadata": {
  "kernelspec": {
   "display_name": "Python 3",
   "language": "python",
   "name": "python3"
  },
  "language_info": {
   "codemirror_mode": {
    "name": "ipython",
    "version": 3
   },
   "file_extension": ".py",
   "mimetype": "text/x-python",
   "name": "python",
   "nbconvert_exporter": "python",
   "pygments_lexer": "ipython3",
   "version": "3.9.6"
  }
 },
 "nbformat": 4,
 "nbformat_minor": 2
}
